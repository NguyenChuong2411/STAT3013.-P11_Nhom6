{
 "cells": [
  {
   "cell_type": "code",
   "execution_count": 5,
   "metadata": {},
   "outputs": [],
   "source": [
    "import pandas as pd\n",
    "\n",
    "# Đọc dữ liệu từ file CSV\n",
    "df = pd.read_csv(\"Dataset.csv\")\n"
   ]
  },
  {
   "cell_type": "code",
   "execution_count": 6,
   "metadata": {},
   "outputs": [],
   "source": [
    "# Tính hệ số tương quan\n",
    "correlation_gold_usd = df['Gold_Price'].corr(df['USD_Price'])\n",
    "correlation_gold_gdp = df['Gold_Price'].corr(df['GDP'])\n",
    "correlation_gold_brent = df['Gold_Price'].corr(df['Brent'])"
   ]
  },
  {
   "cell_type": "code",
   "execution_count": 7,
   "metadata": {},
   "outputs": [
    {
     "name": "stdout",
     "output_type": "stream",
     "text": [
      "Pearson Correlation Coefficient (PCC) between Gold_Price and USD_Price: -0.40163743674431795\n",
      "Pearson Correlation Coefficient (PCC) between Gold_Price and GDP: 0.8151488182819903\n",
      "Pearson Correlation Coefficient (PCC) between Gold_Price and Brent: 0.7834341194136211\n"
     ]
    }
   ],
   "source": [
    "# In kết quả\n",
    "print(\"Pearson Correlation Coefficient (PCC) between Gold_Price and USD_Price:\", correlation_gold_usd)\n",
    "print(\"Pearson Correlation Coefficient (PCC) between Gold_Price and GDP:\", correlation_gold_gdp)\n",
    "print(\"Pearson Correlation Coefficient (PCC) between Gold_Price and Brent:\", correlation_gold_brent)"
   ]
  }
 ],
 "metadata": {
  "kernelspec": {
   "display_name": "Python 3",
   "language": "python",
   "name": "python3"
  },
  "language_info": {
   "codemirror_mode": {
    "name": "ipython",
    "version": 3
   },
   "file_extension": ".py",
   "mimetype": "text/x-python",
   "name": "python",
   "nbconvert_exporter": "python",
   "pygments_lexer": "ipython3",
   "version": "3.10.11"
  }
 },
 "nbformat": 4,
 "nbformat_minor": 2
}
